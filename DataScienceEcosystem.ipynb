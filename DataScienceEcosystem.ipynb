{
 "cells": [
  {
   "cell_type": "markdown",
   "id": "e69fb1e4-88c6-4078-acf8-11aa1ffc8d5a",
   "metadata": {},
   "source": [
    "# Data Science Tools and Ecosystem #"
   ]
  },
  {
   "cell_type": "markdown",
   "id": "41aa13e2-55dd-4f44-b526-5d5af21c09fc",
   "metadata": {},
   "source": [
    "In this notebook, Data Science Tools and Ecosystem are summarized."
   ]
  },
  {
   "cell_type": "markdown",
   "id": "f87a2d4f-68c2-480b-8082-fdccb30c6eaf",
   "metadata": {},
   "source": [
    "Some of the popular languages that Data Scientists use are:\n",
    "\n",
    "1. **Python**: Python is a general-purpose language widely used in data science due to its simplicity and vast library support such as NumPy, Pandas, and Scikit-learn.\n",
    "\n",
    "2. **R**: R is a language specifically designed for statistical analysis and data visualization.\n",
    "\n",
    "3. **SQL**: SQL (Structured Query Language) is used to interact with databases and manipulate data.\n",
    "\n",
    "4. **Java**: Java is used in big data analytics and also in the implementation of various machine learning algorithms.\n",
    "\n",
    "5. **SAS**: SAS (Statistical Analysis System) is a software suite used for advanced analytics, business intelligence, data management, and predictive analytics.\n",
    "\n",
    "6. **Julia**: Julia is a high-level, high-performance language for technical computing, with syntax that is familiar to users of other technical computing environments.\n",
    "\n",
    "7. **Scala**: Scala is often used with Apache Spark to deal with big data.\n",
    "\n",
    "8. **MATLAB**: MATLAB is used for numerical computing and is often used in academia and research."
   ]
  },
  {
   "cell_type": "markdown",
   "id": "a9032be7-12f1-4ea9-ada7-04a544b26a90",
   "metadata": {},
   "source": [
    "Some of the commonly used libraries used by Data Scientists include:\n",
    "\n",
    "1. **NumPy**: A Python library used for numerical computations and supports large, multi-dimensional arrays and matrices.\n",
    "\n",
    "2. **Pandas**: A Python library used for data manipulation and analysis. It provides data structures and functions needed to manipulate structured data.\n",
    "\n",
    "3. **Matplotlib**: A Python library used for creating static, animated, and interactive visualizations in Python.\n",
    "\n",
    "4. **Scikit-learn**: A Python library used for machine learning and statistical modeling which includes various classification, regression and clustering algorithms.\n",
    "\n",
    "5. **TensorFlow**: An open-source platform for machine learning developed by Google. It has a comprehensive, flexible ecosystem of tools, libraries, and community resources.\n",
    "\n",
    "6. **Keras**: A Python library used to build and train deep learning models. It's user-friendly, modular, and extensible.\n",
    "\n",
    "7. **PyTorch**: An open-source machine learning library based on Torch library, used for applications such as computer vision and natural language processing.\n",
    "\n",
    "8. **Seaborn**: A Python data visualization library based on Matplotlib. It provides a high-level interface for drawing attractive and informative statistical graphics.\n"
   ]
  },
  {
   "cell_type": "markdown",
   "id": "b0b7c46a-90c3-468a-b9ab-e338f07a759c",
   "metadata": {},
   "source": [
    "| Data Science Tools |\n",
    "| --- |\n",
    "| Jupyter Notebook |\n",
    "| RStudio |\n",
    "| Apache Zeppelin |\n"
   ]
  },
  {
   "cell_type": "markdown",
   "id": "e1721bb4-c2c9-4410-9751-5fd730205700",
   "metadata": {},
   "source": [
    "### Below are a few examples of evaluating arithmetic expressions in Python\n",
    "\n",
    "1. Addition: `3 + 2` evaluates to `5`\n",
    "2. Subtraction: `3 - 2` evaluates to `1`\n",
    "3. Multiplication: `3 * 2` evaluates to `6`\n",
    "4. Division: `3 / 2` evaluates to `1.5`\n",
    "5. Floor Division: `3 // 2` evaluates to `1`\n",
    "6. Modulus: `3 % 2` evaluates to `1`\n",
    "7. Exponentiation: `3 ** 2` evaluates to `9`\n"
   ]
  },
  {
   "cell_type": "code",
   "execution_count": 1,
   "id": "9173d322-d249-476a-bfb6-1e0b8747c045",
   "metadata": {
    "tags": []
   },
   "outputs": [
    {
     "name": "stdout",
     "output_type": "stream",
     "text": [
      "17\n"
     ]
    }
   ],
   "source": [
    "# This a simple arithmetic expression to multiply then add integers\n",
    "result = (3 * 4) + 5\n",
    "print(result)"
   ]
  },
  {
   "cell_type": "code",
   "execution_count": 2,
   "id": "5d85aade-1622-4495-a3bc-f18b0b3eeead",
   "metadata": {
    "tags": []
   },
   "outputs": [
    {
     "name": "stdout",
     "output_type": "stream",
     "text": [
      "3.3333333333333335\n"
     ]
    }
   ],
   "source": [
    "# This will convert 200 minutes to hours by dividing by 60\n",
    "minutes = 200\n",
    "hours = minutes / 60\n",
    "print(hours)"
   ]
  },
  {
   "cell_type": "markdown",
   "id": "d0223e98-7e17-43dc-a7a3-a56fddaad58e",
   "metadata": {
    "tags": []
   },
   "source": [
    "**Objectives:**\n",
    "\n",
    "- List popular languages for Data Science.\n",
    "- Understand and use various Data Science libraries.\n",
    "- Learn about different Data Science tools.\n",
    "- Evaluate simple arithmetic expressions in Python.\n",
    "- Convert units using Python (e.g., minutes to hours)."
   ]
  },
  {
   "cell_type": "markdown",
   "id": "92da46da-5d2c-4b36-839e-139efb4f9b78",
   "metadata": {},
   "source": [
    "## Author\n",
    "\n",
    "Gerardo Ivan Garcia Maya\n"
   ]
  }
 ],
 "metadata": {
  "kernelspec": {
   "display_name": "Python",
   "language": "python",
   "name": "conda-env-python-py"
  },
  "language_info": {
   "codemirror_mode": {
    "name": "ipython",
    "version": 3
   },
   "file_extension": ".py",
   "mimetype": "text/x-python",
   "name": "python",
   "nbconvert_exporter": "python",
   "pygments_lexer": "ipython3",
   "version": "3.7.12"
  }
 },
 "nbformat": 4,
 "nbformat_minor": 5
}
